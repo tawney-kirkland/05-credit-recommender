{
 "cells": [
  {
   "cell_type": "code",
   "execution_count": 1,
   "metadata": {},
   "outputs": [],
   "source": [
    "import pandas as pd\n",
    "from pandas import option_context\n",
    "import numpy as np\n",
    "import re\n",
    "import string\n",
    "import pickle\n",
    "\n",
    "import nltk\n",
    "from nltk.corpus import stopwords\n",
    "from nltk.tokenize import MWETokenizer\n",
    "from nltk.tokenize import word_tokenize\n",
    "from nltk.tag import pos_tag\n",
    "from nltk.stem import WordNetLemmatizer, PorterStemmer\n",
    "\n",
    "from sklearn.model_selection import train_test_split\n",
    "from sklearn.feature_extraction.text import CountVectorizer, TfidfVectorizer\n",
    "from sklearn.decomposition import NMF\n",
    "\n",
    "from vaderSentiment.vaderSentiment import SentimentIntensityAnalyzer "
   ]
  },
  {
   "cell_type": "code",
   "execution_count": 2,
   "metadata": {},
   "outputs": [],
   "source": [
    "df = pd.read_csv('04-data/test_data_scraped.csv')"
   ]
  },
  {
   "cell_type": "code",
   "execution_count": 3,
   "metadata": {
    "scrolled": true
   },
   "outputs": [
    {
     "name": "stdout",
     "output_type": "stream",
     "text": [
      "Shape: (3376676, 13)\n",
      "\n",
      "Columns: Index(['Unnamed: 0', 'reviewId', 'userName', 'userImage', 'content', 'score',\n",
      "       'thumbsUpCount', 'reviewCreatedVersion', 'at', 'replyContent',\n",
      "       'repliedAt', 'sortOrder', 'appId'],\n",
      "      dtype='object')\n"
     ]
    }
   ],
   "source": [
    "print('Shape:', df.shape)\n",
    "print( )\n",
    "print('Columns:', df.columns)"
   ]
  },
  {
   "cell_type": "code",
   "execution_count": 4,
   "metadata": {},
   "outputs": [],
   "source": [
    "df['count'] = 1"
   ]
  },
  {
   "cell_type": "code",
   "execution_count": 5,
   "metadata": {},
   "outputs": [],
   "source": [
    "df_agg = df.groupby(['userName']).agg({'count':sum})"
   ]
  },
  {
   "cell_type": "code",
   "execution_count": 6,
   "metadata": {},
   "outputs": [],
   "source": [
    "df_analysis = df[['appId','content']].copy()\n",
    "df_analysis.reset_index(drop=True,inplace=True)"
   ]
  },
  {
   "cell_type": "code",
   "execution_count": 7,
   "metadata": {},
   "outputs": [],
   "source": [
    "df_analysis['content'] = df_analysis['content'].astype(str)"
   ]
  },
  {
   "cell_type": "code",
   "execution_count": 8,
   "metadata": {},
   "outputs": [],
   "source": [
    "def clean_text(text):\n",
    "    '''Make text lowercase, remove punctuation, remove links and mentions'''\n",
    "    text = re.sub('[0-9\\n]',' ',text)\n",
    "    text = text.lower()\n",
    "    text = re.sub(r\"(?:\\@|https?\\://)\\S+\", \"\", text)\n",
    "    text = re.sub('[%s]' % re.escape(string.punctuation), '', text)\n",
    "    text = re.sub(\"\\s\\s+\", \" \", text)\n",
    "    text = re.sub(\"[^a-zA-Z0-9 -]\",\"\",text)\n",
    "    \n",
    "    return text\n",
    "\n",
    "df_analysis['content'] = df_analysis.content.map(clean_text)"
   ]
  },
  {
   "cell_type": "markdown",
   "metadata": {},
   "source": [
    "## Topic modeling"
   ]
  },
  {
   "cell_type": "code",
   "execution_count": 13,
   "metadata": {},
   "outputs": [],
   "source": [
    "df_analysis_topic = df_analysis.copy()"
   ]
  },
  {
   "cell_type": "code",
   "execution_count": 14,
   "metadata": {},
   "outputs": [],
   "source": [
    "df_analysis_topic['tokens'] = df_analysis_topic.content.apply(nltk.word_tokenize)"
   ]
  },
  {
   "cell_type": "code",
   "execution_count": 15,
   "metadata": {},
   "outputs": [],
   "source": [
    "stemmer = PorterStemmer()\n",
    "\n",
    "df_analysis_topic['stemmed'] = df_analysis_topic['tokens'].apply(lambda x: [stemmer.stem(y) for y in x])"
   ]
  },
  {
   "cell_type": "code",
   "execution_count": 16,
   "metadata": {},
   "outputs": [],
   "source": [
    "df_analysis_topic.tokens = df_analysis_topic.tokens.apply(lambda x: ' '.join(x))"
   ]
  },
  {
   "cell_type": "code",
   "execution_count": 17,
   "metadata": {},
   "outputs": [],
   "source": [
    "df_analysis_topic.stemmed = df_analysis_topic.stemmed.apply(lambda x: ' '.join(x))"
   ]
  },
  {
   "cell_type": "code",
   "execution_count": 18,
   "metadata": {},
   "outputs": [],
   "source": [
    "df_analysis_topic = df_analysis_topic[df_analysis_topic['stemmed'].map(len) > 15]"
   ]
  },
  {
   "cell_type": "code",
   "execution_count": 19,
   "metadata": {},
   "outputs": [],
   "source": [
    "#df_analysis1 = df[['title','stemmed']].copy()\n",
    "df_analysis_topic.reset_index(drop=True,inplace=True)"
   ]
  },
  {
   "cell_type": "code",
   "execution_count": 20,
   "metadata": {},
   "outputs": [
    {
     "data": {
      "text/plain": [
       "(1938897, 4)"
      ]
     },
     "execution_count": 20,
     "metadata": {},
     "output_type": "execute_result"
    }
   ],
   "source": [
    "df_analysis_topic.shape"
   ]
  },
  {
   "cell_type": "code",
   "execution_count": 140,
   "metadata": {},
   "outputs": [],
   "source": [
    "stop = stopwords.words('english')\n",
    "stop.extend(['free','get','hd','use','game','games','make','makes','play',\n",
    "             'fun','features', 'need','live', 'also','using','best','us','app','apps', 'one', '2020','2021',\n",
    "            'this','like','enjoy','thing','free'])\n",
    "\n",
    "# # Extend for most common English adverbs\n",
    "\n",
    "stop.extend(['up','so','out','just','now','how','then','more','also','here',\n",
    "            'well','only','very','even','back','there','down','still','in',\n",
    "            'as','to','when','never','really','most','on','why','about','over',\n",
    "            'again','where','right','off','always','today','all','far','long',\n",
    "            'away','yet','often','ever','however','almost','later','much',\n",
    "            'once','least','ago','together','around','already','enough','both',\n",
    "            'maybe','actually','probably','home','of course','perhaps','little',\n",
    "            'else','sometimes','finally','less','better','early','especially',\n",
    "            'either','quite','simply','nearly','soon','certainly','quickly',\n",
    "            'no','recently','before','usually','thus','exactly','hard',\n",
    "            'particularly','forward','ok','okay','clearly','indeed',\n",
    "            'rather','that','tonight','close','suddenly','best','instead',\n",
    "            'ahead','fast','alone','eventually','directly'])\n",
    "\n",
    "\n",
    "stop.extend(['car','race','go','thi','thing','becaus','thank','give','people',\n",
    "            'interest','pleas','thing','every','way','player','win',\n",
    "            'onli','coin','spend','say','want','realli','veri','wa',\n",
    "            'because','very','many','puzzle','onli','challeng','great',\n",
    "            'nice','cute','good','would','easi','peopl','tri', 'abl',\n",
    "            'take','buy','mani','everi','pop','doe','set','amaz',\n",
    "            'ha','robot','drive','video','download','record','song','music',\n",
    "            'level','ca','photo','wonder','star','show','think','awesom',\n",
    "            'could','got','shoot','lot','easili','love','cool','tv','fantast',\n",
    "            '30','truck','ani','first','add','editor','beauti', 'instal',\n",
    "            'day','turn','charact','second','kid','see','doesnt','im','ive',\n",
    "            'sure','sinc','fine','didnt','dont','know','sinc','whi','anyth',\n",
    "            'properli','perfectli','hope','wont','cant','highli', 'android',\n",
    "            'recommend','excel','worst','wast','look','new','pl','keep','come','bad',\n",
    "            'annoy','sometim','seem','screen','connect','samsung','uninstal','open',\n",
    "            'time','pass','problem','paid','applic','call','number','phone','version'])\n",
    "\n",
    "# ## Extend for prepositions\n",
    "stop.extend(['without','among'])"
   ]
  },
  {
   "cell_type": "code",
   "execution_count": 141,
   "metadata": {},
   "outputs": [
    {
     "name": "stderr",
     "output_type": "stream",
     "text": [
      "/Users/tawneykirkland/opt/anaconda3/lib/python3.8/site-packages/sklearn/feature_extraction/text.py:383: UserWarning: Your stop_words may be inconsistent with your preprocessing. Tokenizing the stop words generated tokens ['course'] not in stop_words.\n",
      "  warnings.warn('Your stop_words may be inconsistent with '\n"
     ]
    }
   ],
   "source": [
    "vectorizer = CountVectorizer(stop_words = stop)\n",
    "\n",
    "doc_word = vectorizer.fit_transform(df_analysis_topic.stemmed)"
   ]
  },
  {
   "cell_type": "code",
   "execution_count": 142,
   "metadata": {},
   "outputs": [],
   "source": [
    "nmf_model = NMF(7)\n",
    "doc_topic = nmf_model.fit_transform(doc_word)\n",
    "topic_word = nmf_model.components_"
   ]
  },
  {
   "cell_type": "code",
   "execution_count": 143,
   "metadata": {},
   "outputs": [
    {
     "data": {
      "text/plain": [
       "[['ad', 'watch', 'remov', 'click', 'forc'],\n",
       " ['work', 'stop', 'devic', 'reinstal', 'button'],\n",
       " ['updat', 'last', 'latest', 'year', 'befor'],\n",
       " ['option', 'chang', 'start', 'find', 'featur'],\n",
       " ['fix', 'bug', 'issu', 'crash', 'load'],\n",
       " ['money', 'pay', 'real', 'card', 'purchas'],\n",
       " ['help', 'learn', 'find', 'account', 'support']]"
      ]
     },
     "execution_count": 143,
     "metadata": {},
     "output_type": "execute_result"
    }
   ],
   "source": [
    "words = vectorizer.get_feature_names()\n",
    "t = nmf_model.components_.argsort(axis=1)[:,-1:-6:-1]\n",
    "topic_words = [[words[e] for e in l] for l in t]\n",
    "topic_words"
   ]
  },
  {
   "cell_type": "markdown",
   "metadata": {},
   "source": [
    "Topics:\n",
    "* Ads in the app\n",
    "* Device compatability\n",
    "* App updates\n",
    "* Finding, using and requesting features\n",
    "* App bugs\n",
    "* Payments-related\n",
    "* Using the app and app support"
   ]
  },
  {
   "cell_type": "code",
   "execution_count": 144,
   "metadata": {},
   "outputs": [],
   "source": [
    "df_analysis_topic['topic'] = doc_topic.argmax(axis=1)"
   ]
  },
  {
   "cell_type": "code",
   "execution_count": 145,
   "metadata": {
    "scrolled": true
   },
   "outputs": [
    {
     "data": {
      "text/html": [
       "<div>\n",
       "<style scoped>\n",
       "    .dataframe tbody tr th:only-of-type {\n",
       "        vertical-align: middle;\n",
       "    }\n",
       "\n",
       "    .dataframe tbody tr th {\n",
       "        vertical-align: top;\n",
       "    }\n",
       "\n",
       "    .dataframe thead th {\n",
       "        text-align: right;\n",
       "    }\n",
       "</style>\n",
       "<table border=\"1\" class=\"dataframe\">\n",
       "  <thead>\n",
       "    <tr style=\"text-align: right;\">\n",
       "      <th></th>\n",
       "      <th>appId</th>\n",
       "      <th>content</th>\n",
       "      <th>tokens</th>\n",
       "      <th>stemmed</th>\n",
       "      <th>topic</th>\n",
       "    </tr>\n",
       "  </thead>\n",
       "  <tbody>\n",
       "    <tr>\n",
       "      <th>1778164</th>\n",
       "      <td>de.dwd.warnapp</td>\n",
       "      <td>funktioniert nicht hinter einem proxyserver keine daten</td>\n",
       "      <td>funktioniert nicht hinter einem proxyserver keine daten</td>\n",
       "      <td>funktioniert nicht hinter einem proxyserv kein daten</td>\n",
       "      <td>2</td>\n",
       "    </tr>\n",
       "    <tr>\n",
       "      <th>327543</th>\n",
       "      <td>de.elfsoft.bestbrokers</td>\n",
       "      <td>its a good app but its needs to be updated to show prices for the stocks you own not just percentages as well as other things</td>\n",
       "      <td>its a good app but its needs to be updated to show prices for the stocks you own not just percentages as well as other things</td>\n",
       "      <td>it a good app but it need to be updat to show price for the stock you own not just percentag as well as other thing</td>\n",
       "      <td>2</td>\n",
       "    </tr>\n",
       "    <tr>\n",
       "      <th>996413</th>\n",
       "      <td>com.com2us.soccerspirits.normal2.freefull.google.global.android.common</td>\n",
       "      <td>after the reborn update this game feels bad appreciate the dev to change the character upgrade systems with spirit and stone upgrade skip result the downside was grindings means more stamina to be consumed yet the game have a lot of stages and or events to play especially to get those character spirit from every stages</td>\n",
       "      <td>after the reborn update this game feels bad appreciate the dev to change the character upgrade systems with spirit and stone upgrade skip result the downside was grindings means more stamina to be consumed yet the game have a lot of stages and or events to play especially to get those character spirit from every stages</td>\n",
       "      <td>after the reborn updat thi game feel bad appreci the dev to chang the charact upgrad system with spirit and stone upgrad skip result the downsid wa grind mean more stamina to be consum yet the game have a lot of stage and or event to play especi to get those charact spirit from everi stage</td>\n",
       "      <td>2</td>\n",
       "    </tr>\n",
       "    <tr>\n",
       "      <th>728116</th>\n",
       "      <td>com.generalmagic.magicearth</td>\n",
       "      <td>my phone was automatically disconnected and out of this app once i received the update</td>\n",
       "      <td>my phone was automatically disconnected and out of this app once i received the update</td>\n",
       "      <td>my phone wa automat disconnect and out of thi app onc i receiv the updat</td>\n",
       "      <td>2</td>\n",
       "    </tr>\n",
       "    <tr>\n",
       "      <th>1361468</th>\n",
       "      <td>de.kroegerama.android4batpercent</td>\n",
       "      <td>after my latest update my galaxy s it doest work anymore</td>\n",
       "      <td>after my latest update my galaxy s it doest work anymore</td>\n",
       "      <td>after my latest updat my galaxi s it doest work anymor</td>\n",
       "      <td>2</td>\n",
       "    </tr>\n",
       "  </tbody>\n",
       "</table>\n",
       "</div>"
      ],
      "text/plain": [
       "                                                                          appId  \\\n",
       "1778164                                                          de.dwd.warnapp   \n",
       "327543                                                   de.elfsoft.bestbrokers   \n",
       "996413   com.com2us.soccerspirits.normal2.freefull.google.global.android.common   \n",
       "728116                                              com.generalmagic.magicearth   \n",
       "1361468                                        de.kroegerama.android4batpercent   \n",
       "\n",
       "                                                                                                                                                                                                                                                                                                                                  content  \\\n",
       "1778164                                                                                                                                                                                                                                                                           funktioniert nicht hinter einem proxyserver keine daten   \n",
       "327543                                                                                                                                                                                                      its a good app but its needs to be updated to show prices for the stocks you own not just percentages as well as other things   \n",
       "996413   after the reborn update this game feels bad appreciate the dev to change the character upgrade systems with spirit and stone upgrade skip result the downside was grindings means more stamina to be consumed yet the game have a lot of stages and or events to play especially to get those character spirit from every stages   \n",
       "728116                                                                                                                                                                                                                                            my phone was automatically disconnected and out of this app once i received the update    \n",
       "1361468                                                                                                                                                                                                                                                                          after my latest update my galaxy s it doest work anymore   \n",
       "\n",
       "                                                                                                                                                                                                                                                                                                                                   tokens  \\\n",
       "1778164                                                                                                                                                                                                                                                                           funktioniert nicht hinter einem proxyserver keine daten   \n",
       "327543                                                                                                                                                                                                      its a good app but its needs to be updated to show prices for the stocks you own not just percentages as well as other things   \n",
       "996413   after the reborn update this game feels bad appreciate the dev to change the character upgrade systems with spirit and stone upgrade skip result the downside was grindings means more stamina to be consumed yet the game have a lot of stages and or events to play especially to get those character spirit from every stages   \n",
       "728116                                                                                                                                                                                                                                             my phone was automatically disconnected and out of this app once i received the update   \n",
       "1361468                                                                                                                                                                                                                                                                          after my latest update my galaxy s it doest work anymore   \n",
       "\n",
       "                                                                                                                                                                                                                                                                                                    stemmed  \\\n",
       "1778164                                                                                                                                                                                                                                                funktioniert nicht hinter einem proxyserv kein daten   \n",
       "327543                                                                                                                                                                                  it a good app but it need to be updat to show price for the stock you own not just percentag as well as other thing   \n",
       "996413   after the reborn updat thi game feel bad appreci the dev to chang the charact upgrad system with spirit and stone upgrad skip result the downsid wa grind mean more stamina to be consum yet the game have a lot of stage and or event to play especi to get those charact spirit from everi stage   \n",
       "728116                                                                                                                                                                                                                             my phone wa automat disconnect and out of thi app onc i receiv the updat   \n",
       "1361468                                                                                                                                                                                                                                              after my latest updat my galaxi s it doest work anymor   \n",
       "\n",
       "         topic  \n",
       "1778164      2  \n",
       "327543       2  \n",
       "996413       2  \n",
       "728116       2  \n",
       "1361468      2  "
      ]
     },
     "metadata": {},
     "output_type": "display_data"
    }
   ],
   "source": [
    "with option_context('display.max_colwidth', 600):\n",
    "    display(df_analysis_topic[df_analysis_topic['topic'] == 2].sample(5))"
   ]
  },
  {
   "cell_type": "markdown",
   "metadata": {},
   "source": [
    "## Sentiment analysis "
   ]
  },
  {
   "cell_type": "code",
   "execution_count": 146,
   "metadata": {},
   "outputs": [],
   "source": [
    "sid_obj = SentimentIntensityAnalyzer()\n",
    "sentiment = []\n",
    "for comment in df_analysis_topic.content:\n",
    "    sentiment.append(sid_obj.polarity_scores(comment))"
   ]
  },
  {
   "cell_type": "code",
   "execution_count": 147,
   "metadata": {},
   "outputs": [
    {
     "data": {
      "text/html": [
       "<div>\n",
       "<style scoped>\n",
       "    .dataframe tbody tr th:only-of-type {\n",
       "        vertical-align: middle;\n",
       "    }\n",
       "\n",
       "    .dataframe tbody tr th {\n",
       "        vertical-align: top;\n",
       "    }\n",
       "\n",
       "    .dataframe thead th {\n",
       "        text-align: right;\n",
       "    }\n",
       "</style>\n",
       "<table border=\"1\" class=\"dataframe\">\n",
       "  <thead>\n",
       "    <tr style=\"text-align: right;\">\n",
       "      <th></th>\n",
       "      <th>neg</th>\n",
       "      <th>neu</th>\n",
       "      <th>pos</th>\n",
       "      <th>compound</th>\n",
       "    </tr>\n",
       "  </thead>\n",
       "  <tbody>\n",
       "    <tr>\n",
       "      <th>0</th>\n",
       "      <td>0.341</td>\n",
       "      <td>0.659</td>\n",
       "      <td>0.000</td>\n",
       "      <td>-0.4767</td>\n",
       "    </tr>\n",
       "    <tr>\n",
       "      <th>1</th>\n",
       "      <td>0.000</td>\n",
       "      <td>1.000</td>\n",
       "      <td>0.000</td>\n",
       "      <td>0.0000</td>\n",
       "    </tr>\n",
       "    <tr>\n",
       "      <th>2</th>\n",
       "      <td>0.108</td>\n",
       "      <td>0.700</td>\n",
       "      <td>0.192</td>\n",
       "      <td>0.8271</td>\n",
       "    </tr>\n",
       "    <tr>\n",
       "      <th>3</th>\n",
       "      <td>0.103</td>\n",
       "      <td>0.897</td>\n",
       "      <td>0.000</td>\n",
       "      <td>-0.4449</td>\n",
       "    </tr>\n",
       "    <tr>\n",
       "      <th>4</th>\n",
       "      <td>0.241</td>\n",
       "      <td>0.759</td>\n",
       "      <td>0.000</td>\n",
       "      <td>-0.5423</td>\n",
       "    </tr>\n",
       "    <tr>\n",
       "      <th>...</th>\n",
       "      <td>...</td>\n",
       "      <td>...</td>\n",
       "      <td>...</td>\n",
       "      <td>...</td>\n",
       "    </tr>\n",
       "    <tr>\n",
       "      <th>1938892</th>\n",
       "      <td>0.000</td>\n",
       "      <td>0.284</td>\n",
       "      <td>0.716</td>\n",
       "      <td>0.8775</td>\n",
       "    </tr>\n",
       "    <tr>\n",
       "      <th>1938893</th>\n",
       "      <td>0.000</td>\n",
       "      <td>0.618</td>\n",
       "      <td>0.382</td>\n",
       "      <td>0.4754</td>\n",
       "    </tr>\n",
       "    <tr>\n",
       "      <th>1938894</th>\n",
       "      <td>0.000</td>\n",
       "      <td>0.423</td>\n",
       "      <td>0.577</td>\n",
       "      <td>0.6249</td>\n",
       "    </tr>\n",
       "    <tr>\n",
       "      <th>1938895</th>\n",
       "      <td>0.000</td>\n",
       "      <td>1.000</td>\n",
       "      <td>0.000</td>\n",
       "      <td>0.0000</td>\n",
       "    </tr>\n",
       "    <tr>\n",
       "      <th>1938896</th>\n",
       "      <td>0.432</td>\n",
       "      <td>0.568</td>\n",
       "      <td>0.000</td>\n",
       "      <td>-0.8720</td>\n",
       "    </tr>\n",
       "  </tbody>\n",
       "</table>\n",
       "<p>1938897 rows × 4 columns</p>\n",
       "</div>"
      ],
      "text/plain": [
       "           neg    neu    pos  compound\n",
       "0        0.341  0.659  0.000   -0.4767\n",
       "1        0.000  1.000  0.000    0.0000\n",
       "2        0.108  0.700  0.192    0.8271\n",
       "3        0.103  0.897  0.000   -0.4449\n",
       "4        0.241  0.759  0.000   -0.5423\n",
       "...        ...    ...    ...       ...\n",
       "1938892  0.000  0.284  0.716    0.8775\n",
       "1938893  0.000  0.618  0.382    0.4754\n",
       "1938894  0.000  0.423  0.577    0.6249\n",
       "1938895  0.000  1.000  0.000    0.0000\n",
       "1938896  0.432  0.568  0.000   -0.8720\n",
       "\n",
       "[1938897 rows x 4 columns]"
      ]
     },
     "execution_count": 147,
     "metadata": {},
     "output_type": "execute_result"
    }
   ],
   "source": [
    "sentiment_df = pd.DataFrame(sentiment)\n",
    "sentiment_df"
   ]
  },
  {
   "cell_type": "markdown",
   "metadata": {},
   "source": [
    "## Merge topic model and sentiment analysis"
   ]
  },
  {
   "cell_type": "code",
   "execution_count": 148,
   "metadata": {},
   "outputs": [],
   "source": [
    "df_merged = pd.concat([df_analysis_topic,sentiment_df],axis=1)\n",
    "df_merged"
   ]
  },
  {
   "cell_type": "code",
   "execution_count": 150,
   "metadata": {},
   "outputs": [
    {
     "data": {
      "text/html": [
       "<div>\n",
       "<style scoped>\n",
       "    .dataframe tbody tr th:only-of-type {\n",
       "        vertical-align: middle;\n",
       "    }\n",
       "\n",
       "    .dataframe tbody tr th {\n",
       "        vertical-align: top;\n",
       "    }\n",
       "\n",
       "    .dataframe thead th {\n",
       "        text-align: right;\n",
       "    }\n",
       "</style>\n",
       "<table border=\"1\" class=\"dataframe\">\n",
       "  <thead>\n",
       "    <tr style=\"text-align: right;\">\n",
       "      <th></th>\n",
       "      <th>count</th>\n",
       "      <th>mean</th>\n",
       "      <th>std</th>\n",
       "      <th>min</th>\n",
       "      <th>25%</th>\n",
       "      <th>50%</th>\n",
       "      <th>75%</th>\n",
       "      <th>max</th>\n",
       "    </tr>\n",
       "    <tr>\n",
       "      <th>topic</th>\n",
       "      <th></th>\n",
       "      <th></th>\n",
       "      <th></th>\n",
       "      <th></th>\n",
       "      <th></th>\n",
       "      <th></th>\n",
       "      <th></th>\n",
       "      <th></th>\n",
       "    </tr>\n",
       "  </thead>\n",
       "  <tbody>\n",
       "    <tr>\n",
       "      <th>0</th>\n",
       "      <td>246835.0</td>\n",
       "      <td>0.245739</td>\n",
       "      <td>0.467223</td>\n",
       "      <td>-1.0000</td>\n",
       "      <td>0.0000</td>\n",
       "      <td>0.3612</td>\n",
       "      <td>0.6369</td>\n",
       "      <td>0.9998</td>\n",
       "    </tr>\n",
       "    <tr>\n",
       "      <th>1</th>\n",
       "      <td>142233.0</td>\n",
       "      <td>0.163732</td>\n",
       "      <td>0.468477</td>\n",
       "      <td>-0.9989</td>\n",
       "      <td>-0.0705</td>\n",
       "      <td>0.0290</td>\n",
       "      <td>0.5719</td>\n",
       "      <td>0.9989</td>\n",
       "    </tr>\n",
       "    <tr>\n",
       "      <th>2</th>\n",
       "      <td>70292.0</td>\n",
       "      <td>0.141557</td>\n",
       "      <td>0.472527</td>\n",
       "      <td>-0.9941</td>\n",
       "      <td>-0.1027</td>\n",
       "      <td>0.0000</td>\n",
       "      <td>0.5267</td>\n",
       "      <td>0.9999</td>\n",
       "    </tr>\n",
       "    <tr>\n",
       "      <th>3</th>\n",
       "      <td>1224932.0</td>\n",
       "      <td>0.181478</td>\n",
       "      <td>0.485676</td>\n",
       "      <td>-0.9997</td>\n",
       "      <td>-0.1027</td>\n",
       "      <td>0.1531</td>\n",
       "      <td>0.6249</td>\n",
       "      <td>1.0000</td>\n",
       "    </tr>\n",
       "    <tr>\n",
       "      <th>4</th>\n",
       "      <td>91384.0</td>\n",
       "      <td>0.170900</td>\n",
       "      <td>0.485608</td>\n",
       "      <td>-0.9918</td>\n",
       "      <td>-0.1531</td>\n",
       "      <td>0.1779</td>\n",
       "      <td>0.5927</td>\n",
       "      <td>0.9977</td>\n",
       "    </tr>\n",
       "    <tr>\n",
       "      <th>5</th>\n",
       "      <td>94654.0</td>\n",
       "      <td>0.152984</td>\n",
       "      <td>0.520062</td>\n",
       "      <td>-0.9928</td>\n",
       "      <td>-0.2263</td>\n",
       "      <td>0.1406</td>\n",
       "      <td>0.6183</td>\n",
       "      <td>0.9995</td>\n",
       "    </tr>\n",
       "    <tr>\n",
       "      <th>6</th>\n",
       "      <td>68567.0</td>\n",
       "      <td>0.444057</td>\n",
       "      <td>0.433744</td>\n",
       "      <td>-0.9935</td>\n",
       "      <td>0.2163</td>\n",
       "      <td>0.5574</td>\n",
       "      <td>0.7783</td>\n",
       "      <td>0.9977</td>\n",
       "    </tr>\n",
       "  </tbody>\n",
       "</table>\n",
       "</div>"
      ],
      "text/plain": [
       "           count      mean       std     min     25%     50%     75%     max\n",
       "topic                                                                       \n",
       "0       246835.0  0.245739  0.467223 -1.0000  0.0000  0.3612  0.6369  0.9998\n",
       "1       142233.0  0.163732  0.468477 -0.9989 -0.0705  0.0290  0.5719  0.9989\n",
       "2        70292.0  0.141557  0.472527 -0.9941 -0.1027  0.0000  0.5267  0.9999\n",
       "3      1224932.0  0.181478  0.485676 -0.9997 -0.1027  0.1531  0.6249  1.0000\n",
       "4        91384.0  0.170900  0.485608 -0.9918 -0.1531  0.1779  0.5927  0.9977\n",
       "5        94654.0  0.152984  0.520062 -0.9928 -0.2263  0.1406  0.6183  0.9995\n",
       "6        68567.0  0.444057  0.433744 -0.9935  0.2163  0.5574  0.7783  0.9977"
      ]
     },
     "execution_count": 150,
     "metadata": {},
     "output_type": "execute_result"
    }
   ],
   "source": [
    "df_merged.groupby('topic')['compound'].describe()"
   ]
  },
  {
   "cell_type": "markdown",
   "metadata": {},
   "source": [
    "### Create dataframe which is average sentiment per topic per app\n",
    "This will be used in the linear regression modeling"
   ]
  },
  {
   "cell_type": "code",
   "execution_count": 175,
   "metadata": {},
   "outputs": [],
   "source": [
    "final_df = df_merged.groupby(['appId','topic'])['compound'].mean().reset_index()"
   ]
  },
  {
   "cell_type": "code",
   "execution_count": 176,
   "metadata": {},
   "outputs": [],
   "source": [
    "final_df = final_df.pivot_table(index=['appId'],columns=['topic'],values='compound').fillna(0)"
   ]
  },
  {
   "cell_type": "code",
   "execution_count": 185,
   "metadata": {
    "scrolled": true
   },
   "outputs": [],
   "source": [
    "final_df.rename(columns = {0: 'app_ads',\n",
    "                                  1: 'compatibility',\n",
    "                                  2: 'updates',\n",
    "                                  3: 'features',\n",
    "                                  4: 'bugs',\n",
    "                                  5: 'payments',\n",
    "                                  6: 'use_support'},\n",
    "                                   inplace=True)"
   ]
  },
  {
   "cell_type": "code",
   "execution_count": 186,
   "metadata": {},
   "outputs": [],
   "source": [
    "final_df.to_csv('04-data/sentiment_topics_apps.csv')"
   ]
  },
  {
   "cell_type": "code",
   "execution_count": null,
   "metadata": {},
   "outputs": [],
   "source": []
  }
 ],
 "metadata": {
  "kernelspec": {
   "display_name": "Python 3",
   "language": "python",
   "name": "python3"
  },
  "language_info": {
   "codemirror_mode": {
    "name": "ipython",
    "version": 3
   },
   "file_extension": ".py",
   "mimetype": "text/x-python",
   "name": "python",
   "nbconvert_exporter": "python",
   "pygments_lexer": "ipython3",
   "version": "3.8.5"
  }
 },
 "nbformat": 4,
 "nbformat_minor": 4
}
