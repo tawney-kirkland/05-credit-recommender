{
 "cells": [
  {
   "cell_type": "code",
   "execution_count": 1,
   "metadata": {},
   "outputs": [],
   "source": [
    "import pandas as pd\n",
    "from pandas import option_context\n",
    "import numpy as np\n",
    "import re\n",
    "\n",
    "from sklearn.model_selection import train_test_split\n",
    "from sklearn.feature_extraction.text import CountVectorizer, TfidfVectorizer\n",
    "from sklearn.decomposition import NMF\n",
    "\n",
    "import nltk\n",
    "from nltk.corpus import stopwords\n",
    "from nltk.tokenize import MWETokenizer\n",
    "from nltk.tokenize import word_tokenize\n",
    "from nltk.tag import pos_tag\n",
    "from nltk.stem import WordNetLemmatizer \n",
    "\n",
    "from vaderSentiment.vaderSentiment import SentimentIntensityAnalyzer \n",
    "\n",
    "from collections import Counter\n",
    "\n",
    "from textblob import TextBlob"
   ]
  },
  {
   "cell_type": "code",
   "execution_count": 2,
   "metadata": {},
   "outputs": [
    {
     "name": "stdout",
     "output_type": "stream",
     "text": [
      "<class 'pandas.core.frame.DataFrame'>\n",
      "RangeIndex: 45536 entries, 0 to 45535\n",
      "Data columns (total 54 columns):\n",
      " #   Column                    Non-Null Count  Dtype  \n",
      "---  ------                    --------------  -----  \n",
      " 0   title                     45536 non-null  object \n",
      " 1   description               45536 non-null  object \n",
      " 2   summary                   45520 non-null  object \n",
      " 3   installs                  45536 non-null  object \n",
      " 4   minInstalls               45536 non-null  float64\n",
      " 5   score                     45536 non-null  float64\n",
      " 6   ratings                   45536 non-null  float64\n",
      " 7   reviews                   45536 non-null  float64\n",
      " 8   histogram                 45536 non-null  object \n",
      " 9   price                     45536 non-null  float64\n",
      " 10  free                      45536 non-null  int64  \n",
      " 11  currency                  45536 non-null  object \n",
      " 12  sale                      45536 non-null  bool   \n",
      " 13  offersIAP                 45536 non-null  bool   \n",
      " 14  inAppProductPrice         19523 non-null  object \n",
      " 15  size                      45536 non-null  object \n",
      " 16  androidVersion            45482 non-null  object \n",
      " 17  androidVersionText        45482 non-null  object \n",
      " 18  developer                 45536 non-null  object \n",
      " 19  developerId               45536 non-null  object \n",
      " 20  privacyPolicy             43530 non-null  object \n",
      " 21  developerInternalID       45536 non-null  float64\n",
      " 22  genre                     45536 non-null  object \n",
      " 23  genreId                   45536 non-null  object \n",
      " 24  icon                      45536 non-null  object \n",
      " 25  headerImage               45514 non-null  object \n",
      " 26  screenshots               45536 non-null  object \n",
      " 27  video                     14207 non-null  object \n",
      " 28  videoImage                14207 non-null  object \n",
      " 29  contentRating             45536 non-null  object \n",
      " 30  contentRatingDescription  8970 non-null   object \n",
      " 31  adSupported               36521 non-null  object \n",
      " 32  containsAds               45536 non-null  int64  \n",
      " 33  released                  45536 non-null  object \n",
      " 34  updated                   45536 non-null  float64\n",
      " 35  version                   45529 non-null  object \n",
      " 36  recentChanges             36300 non-null  object \n",
      " 37  comments                  45533 non-null  object \n",
      " 38  editorsChoice             45536 non-null  int64  \n",
      " 39  appId                     45533 non-null  object \n",
      " 40  url                       45533 non-null  object \n",
      " 41  year                      45536 non-null  int64  \n",
      " 42  description_clean         45531 non-null  object \n",
      " 43  hist_clean                45536 non-null  object \n",
      " 44  star_1                    45536 non-null  int64  \n",
      " 45  star_2                    45536 non-null  int64  \n",
      " 46  star_3                    45536 non-null  int64  \n",
      " 47  star_4                    45536 non-null  int64  \n",
      " 48  star_5                    45536 non-null  int64  \n",
      " 49  top_developer             45536 non-null  int64  \n",
      " 50  current_date              45536 non-null  object \n",
      " 51  days                      45536 non-null  int64  \n",
      " 52  installs_day              45536 non-null  float64\n",
      " 53  has_video                 45536 non-null  int64  \n",
      "dtypes: bool(2), float64(8), int64(12), object(32)\n",
      "memory usage: 18.2+ MB\n"
     ]
    }
   ],
   "source": [
    "df = pd.read_csv('04-data/preprocessed_app_data.csv')\n",
    "df.info()"
   ]
  },
  {
   "cell_type": "code",
   "execution_count": 9,
   "metadata": {},
   "outputs": [],
   "source": [
    "df = df[df['description_clean'].notna()]"
   ]
  },
  {
   "cell_type": "code",
   "execution_count": 10,
   "metadata": {},
   "outputs": [],
   "source": [
    "df_analysis = df[['title','description_clean']].copy()\n",
    "df_analysis.reset_index(drop=True,inplace=True)"
   ]
  },
  {
   "cell_type": "code",
   "execution_count": 11,
   "metadata": {},
   "outputs": [
    {
     "data": {
      "text/html": [
       "<div>\n",
       "<style scoped>\n",
       "    .dataframe tbody tr th:only-of-type {\n",
       "        vertical-align: middle;\n",
       "    }\n",
       "\n",
       "    .dataframe tbody tr th {\n",
       "        vertical-align: top;\n",
       "    }\n",
       "\n",
       "    .dataframe thead th {\n",
       "        text-align: right;\n",
       "    }\n",
       "</style>\n",
       "<table border=\"1\" class=\"dataframe\">\n",
       "  <thead>\n",
       "    <tr style=\"text-align: right;\">\n",
       "      <th></th>\n",
       "      <th>title</th>\n",
       "      <th>description_clean</th>\n",
       "    </tr>\n",
       "  </thead>\n",
       "  <tbody>\n",
       "    <tr>\n",
       "      <th>0</th>\n",
       "      <td>World War 2: Offline Strategy</td>\n",
       "      <td>command  allies in 25 epic world war 2 locatio...</td>\n",
       "    </tr>\n",
       "    <tr>\n",
       "      <th>1</th>\n",
       "      <td>AndroXLS editor for XLS sheets</td>\n",
       "      <td>androxls is an android app to edit xls spreads...</td>\n",
       "    </tr>\n",
       "    <tr>\n",
       "      <th>2</th>\n",
       "      <td>SoundSeeder -Play music simultaneously and in ...</td>\n",
       "      <td>soundseeder syncs up your music playback on mu...</td>\n",
       "    </tr>\n",
       "    <tr>\n",
       "      <th>3</th>\n",
       "      <td>LibreOffice &amp; OpenOffice document reader | ODF</td>\n",
       "      <td>view and modify documents created using libreo...</td>\n",
       "    </tr>\n",
       "    <tr>\n",
       "      <th>4</th>\n",
       "      <td>All PDF - PDF Reader, PDF Viewer &amp; PDF Converter</td>\n",
       "      <td>pdf reader for android pdfs converter free is ...</td>\n",
       "    </tr>\n",
       "    <tr>\n",
       "      <th>...</th>\n",
       "      <td>...</td>\n",
       "      <td>...</td>\n",
       "    </tr>\n",
       "    <tr>\n",
       "      <th>45526</th>\n",
       "      <td>Bikini Bottom Maps for Minecraft</td>\n",
       "      <td>play the best maps of bikini bottom with this ...</td>\n",
       "    </tr>\n",
       "    <tr>\n",
       "      <th>45527</th>\n",
       "      <td>PokeCraft : Monsters Mod</td>\n",
       "      <td>the pokecraft monsters mod  for minecraft is a...</td>\n",
       "    </tr>\n",
       "    <tr>\n",
       "      <th>45528</th>\n",
       "      <td>TongitsXtreme</td>\n",
       "      <td>enjoy this exciting filipino card game called ...</td>\n",
       "    </tr>\n",
       "    <tr>\n",
       "      <th>45529</th>\n",
       "      <td>Play Tube</td>\n",
       "      <td>---------- play tube music ---------this app d...</td>\n",
       "    </tr>\n",
       "    <tr>\n",
       "      <th>45530</th>\n",
       "      <td>Tarot Card Reading</td>\n",
       "      <td>discover your future with this free tarot car...</td>\n",
       "    </tr>\n",
       "  </tbody>\n",
       "</table>\n",
       "<p>45531 rows × 2 columns</p>\n",
       "</div>"
      ],
      "text/plain": [
       "                                                   title  \\\n",
       "0                          World War 2: Offline Strategy   \n",
       "1                         AndroXLS editor for XLS sheets   \n",
       "2      SoundSeeder -Play music simultaneously and in ...   \n",
       "3         LibreOffice & OpenOffice document reader | ODF   \n",
       "4       All PDF - PDF Reader, PDF Viewer & PDF Converter   \n",
       "...                                                  ...   \n",
       "45526                   Bikini Bottom Maps for Minecraft   \n",
       "45527                           PokeCraft : Monsters Mod   \n",
       "45528                                      TongitsXtreme   \n",
       "45529                                          Play Tube   \n",
       "45530                                 Tarot Card Reading   \n",
       "\n",
       "                                       description_clean  \n",
       "0      command  allies in 25 epic world war 2 locatio...  \n",
       "1      androxls is an android app to edit xls spreads...  \n",
       "2      soundseeder syncs up your music playback on mu...  \n",
       "3      view and modify documents created using libreo...  \n",
       "4      pdf reader for android pdfs converter free is ...  \n",
       "...                                                  ...  \n",
       "45526  play the best maps of bikini bottom with this ...  \n",
       "45527  the pokecraft monsters mod  for minecraft is a...  \n",
       "45528  enjoy this exciting filipino card game called ...  \n",
       "45529  ---------- play tube music ---------this app d...  \n",
       "45530   discover your future with this free tarot car...  \n",
       "\n",
       "[45531 rows x 2 columns]"
      ]
     },
     "execution_count": 11,
     "metadata": {},
     "output_type": "execute_result"
    }
   ],
   "source": [
    "df_analysis"
   ]
  },
  {
   "cell_type": "code",
   "execution_count": 12,
   "metadata": {},
   "outputs": [],
   "source": [
    "stop = stopwords.words('english')"
   ]
  },
  {
   "cell_type": "code",
   "execution_count": 25,
   "metadata": {},
   "outputs": [],
   "source": [
    "vectorizer = CountVectorizer(stop_words = stop)\n",
    "\n",
    "doc_word = vectorizer.fit_transform(df_analysis.description_clean)"
   ]
  },
  {
   "cell_type": "code",
   "execution_count": 28,
   "metadata": {},
   "outputs": [],
   "source": [
    "nmf_model = NMF(12)\n",
    "doc_topic = nmf_model.fit_transform(doc_word)\n",
    "topic_word = nmf_model.components_"
   ]
  },
  {
   "cell_type": "code",
   "execution_count": 29,
   "metadata": {},
   "outputs": [
    {
     "data": {
      "text/plain": [
       "[['game', 'play', 'free', 'new', 'world', 'fun'],\n",
       " ['app', 'free', 'use', 'phone', 'get', 'time'],\n",
       " ['photo', 'editor', 'photos', 'frames', 'effects', 'make'],\n",
       " ['car', 'racing', 'driving', 'parking', 'stunt', 'game'],\n",
       " ['video', 'videos', 'maker', 'status', 'download', 'app'],\n",
       " ['music', 'player', 'free', 'songs', 'play', 'audio'],\n",
       " ['keyboard', 'theme', 'themes', 'new', 'typing', 'hd'],\n",
       " ['truck', 'driving', 'bus', 'simulator', 'transport', 'city'],\n",
       " ['robot', 'games', 'flying', 'transform', 'transforming', 'car'],\n",
       " ['de', 'la', 'en', 'para', 'que', 'el'],\n",
       " ['games', 'shooting', 'free', 'best', 'new', 'kids'],\n",
       " ['wallpaper', 'live', 'wallpapers', 'screen', 'phone', 'hd']]"
      ]
     },
     "execution_count": 29,
     "metadata": {},
     "output_type": "execute_result"
    }
   ],
   "source": [
    "words = vectorizer.get_feature_names()\n",
    "t = nmf_model.components_.argsort(axis=1)[:,-1:-7:-1]\n",
    "topic_words = [[words[e] for e in l] for l in t]\n",
    "topic_words"
   ]
  },
  {
   "cell_type": "code",
   "execution_count": null,
   "metadata": {},
   "outputs": [],
   "source": []
  }
 ],
 "metadata": {
  "kernelspec": {
   "display_name": "Python 3",
   "language": "python",
   "name": "python3"
  },
  "language_info": {
   "codemirror_mode": {
    "name": "ipython",
    "version": 3
   },
   "file_extension": ".py",
   "mimetype": "text/x-python",
   "name": "python",
   "nbconvert_exporter": "python",
   "pygments_lexer": "ipython3",
   "version": "3.8.5"
  }
 },
 "nbformat": 4,
 "nbformat_minor": 4
}
