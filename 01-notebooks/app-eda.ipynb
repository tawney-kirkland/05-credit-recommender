{
 "cells": [
  {
   "cell_type": "code",
   "execution_count": 2,
   "metadata": {},
   "outputs": [],
   "source": [
    "import pandas as pd\n",
    "import numpy as np\n",
    "\n",
    "import seaborn as sns\n",
    "import matplotlib.pyplot as plt\n",
    "\n",
    "from scipy import stats"
   ]
  },
  {
   "cell_type": "code",
   "execution_count": 6,
   "metadata": {
    "scrolled": true
   },
   "outputs": [
    {
     "name": "stdout",
     "output_type": "stream",
     "text": [
      "<class 'pandas.core.frame.DataFrame'>\n",
      "RangeIndex: 22000 entries, 0 to 21999\n",
      "Data columns (total 56 columns):\n",
      " #   Column                    Non-Null Count  Dtype  \n",
      "---  ------                    --------------  -----  \n",
      " 0   title                     22000 non-null  object \n",
      " 1   description               22000 non-null  object \n",
      " 2   summary                   21999 non-null  object \n",
      " 3   installs                  22000 non-null  object \n",
      " 4   minInstalls               22000 non-null  float64\n",
      " 5   score                     22000 non-null  float64\n",
      " 6   ratings                   22000 non-null  float64\n",
      " 7   reviews                   22000 non-null  float64\n",
      " 8   histogram                 22000 non-null  object \n",
      " 9   price                     22000 non-null  float64\n",
      " 10  free                      22000 non-null  int64  \n",
      " 11  currency                  22000 non-null  object \n",
      " 12  sale                      22000 non-null  bool   \n",
      " 13  offersIAP                 22000 non-null  bool   \n",
      " 14  inAppProductPrice         10297 non-null  object \n",
      " 15  size                      22000 non-null  object \n",
      " 16  androidVersion            21973 non-null  object \n",
      " 17  androidVersionText        21973 non-null  object \n",
      " 18  developer                 22000 non-null  object \n",
      " 19  developerId               22000 non-null  object \n",
      " 20  privacyPolicy             21197 non-null  object \n",
      " 21  developerInternalID       22000 non-null  float64\n",
      " 22  genre                     22000 non-null  object \n",
      " 23  genreId                   22000 non-null  object \n",
      " 24  icon                      22000 non-null  object \n",
      " 25  headerImage               21997 non-null  object \n",
      " 26  screenshots               22000 non-null  object \n",
      " 27  video                     7339 non-null   object \n",
      " 28  videoImage                7339 non-null   object \n",
      " 29  contentRating             22000 non-null  object \n",
      " 30  contentRatingDescription  4781 non-null   object \n",
      " 31  adSupported               17853 non-null  object \n",
      " 32  containsAds               22000 non-null  int64  \n",
      " 33  released                  22000 non-null  object \n",
      " 34  updated                   22000 non-null  object \n",
      " 35  version                   21997 non-null  object \n",
      " 36  recentChanges             17605 non-null  object \n",
      " 37  comments                  22000 non-null  object \n",
      " 38  editorsChoice             22000 non-null  int64  \n",
      " 39  appId                     22000 non-null  object \n",
      " 40  url                       22000 non-null  object \n",
      " 41  year                      22000 non-null  int64  \n",
      " 42  updated_year              22000 non-null  int64  \n",
      " 43  description_clean         21997 non-null  object \n",
      " 44  hist_clean                22000 non-null  object \n",
      " 45  star_1                    22000 non-null  int64  \n",
      " 46  star_2                    22000 non-null  int64  \n",
      " 47  star_3                    22000 non-null  int64  \n",
      " 48  star_4                    22000 non-null  int64  \n",
      " 49  star_5                    22000 non-null  int64  \n",
      " 50  top_developer             22000 non-null  int64  \n",
      " 51  current_date              22000 non-null  object \n",
      " 52  days                      22000 non-null  int64  \n",
      " 53  installs_day              22000 non-null  float64\n",
      " 54  updated_days              22000 non-null  int64  \n",
      " 55  has_video                 22000 non-null  int64  \n",
      "dtypes: bool(2), float64(7), int64(14), object(33)\n",
      "memory usage: 9.1+ MB\n"
     ]
    }
   ],
   "source": [
    "df = pd.read_csv('/Users/tawneykirkland/GitStuff/05-google-play/04-data/preprocessed_app_data.csv')\n",
    "df.info()"
   ]
  },
  {
   "cell_type": "code",
   "execution_count": 7,
   "metadata": {},
   "outputs": [],
   "source": [
    "df1 = df[['title','reviews','ratings','free','containsAds','genre','editorsChoice','contentRating',\n",
    "          'year','top_developer','has_video','installs_day','updated_days','score']]"
   ]
  },
  {
   "cell_type": "code",
   "execution_count": null,
   "metadata": {},
   "outputs": [],
   "source": [
    "fig, ax = plt.subplots(figsize=(15, 15))\n",
    "sns.heatmap(df1.corr(), cmap=\"seismic\", vmin=-1, vmax=1, ax=ax);"
   ]
  },
  {
   "cell_type": "markdown",
   "metadata": {},
   "source": [
    "#### Observations\n",
    "\n",
    "- Strong correlations between year, days since last update and also installs per day. Remove one at a time during regression analyis"
   ]
  },
  {
   "cell_type": "code",
   "execution_count": null,
   "metadata": {},
   "outputs": [],
   "source": [
    "fig, ax = plt.subplots(figsize=(15, 15))\n",
    "pd.plotting.scatter_matrix(df1[['minInstalls','ratings','year','installs_day','updated_days','score']], ax=ax);"
   ]
  },
  {
   "cell_type": "markdown",
   "metadata": {},
   "source": [
    "#### Observations\n",
    "\n",
    "* Score (the target) has a left skew, which is further demonstrated in the images below\n",
    "* Ratings appears exponential - need to transform"
   ]
  },
  {
   "cell_type": "code",
   "execution_count": null,
   "metadata": {
    "scrolled": true
   },
   "outputs": [],
   "source": [
    "print('Average app score overall: {:.3f}'.format(df1['score'].mean()))\n",
    "print('Median app score overall: {:.3f}'.format(df1['score'].median()))"
   ]
  },
  {
   "cell_type": "code",
   "execution_count": null,
   "metadata": {
    "scrolled": true
   },
   "outputs": [],
   "source": [
    "sns.distplot(df1['score'],fit=stats.norm)\n",
    "print('- Total number of ratings:', len(df1['score']))\n",
    "print('- Mean of distribution of rating :', np.mean(df1['score']))\n",
    "print('- Standard deviation:', np.std(df1['score']))"
   ]
  },
  {
   "cell_type": "code",
   "execution_count": null,
   "metadata": {
    "scrolled": true
   },
   "outputs": [],
   "source": [
    "fig = plt.figure() \n",
    "prob = stats.probplot(df['score'], plot=plt)"
   ]
  },
  {
   "cell_type": "markdown",
   "metadata": {},
   "source": [
    "### By content rating"
   ]
  },
  {
   "cell_type": "code",
   "execution_count": null,
   "metadata": {
    "scrolled": false
   },
   "outputs": [],
   "source": [
    "df1.groupby('contentRating')['contentRating'].count()"
   ]
  },
  {
   "cell_type": "code",
   "execution_count": null,
   "metadata": {},
   "outputs": [],
   "source": [
    "df1.groupby('contentRating')['score'].mean()"
   ]
  },
  {
   "cell_type": "markdown",
   "metadata": {},
   "source": [
    "### By app genre"
   ]
  },
  {
   "cell_type": "code",
   "execution_count": null,
   "metadata": {},
   "outputs": [],
   "source": [
    "app_genre_score = df.groupby('genre')['score'].mean()\n",
    "genre_list = df1['genre'].unique()\n",
    "mean_score = df1['score'].mean()\n",
    "\n",
    "plt.figure(figsize=[15,5])\n",
    "plt.gca().spines['top'].set_visible(False)\n",
    "plt.gca().spines['right'].set_visible(False)\n",
    "plt.axhline(mean_score, label= 'Mean score', color = 'blue', linewidth=2)\n",
    "plt.bar(genre_list,app_genre_score)   \n",
    "plt.xticks(genre_list,rotation=90)\n",
    "plt.title('Average score per genre',family='arial',fontsize=16)\n",
    "plt.tight_layout()\n",
    "\n",
    "plt.show;"
   ]
  },
  {
   "cell_type": "markdown",
   "metadata": {},
   "source": [
    "Does not appear to be significant differences in mean user score across genres"
   ]
  },
  {
   "cell_type": "code",
   "execution_count": null,
   "metadata": {
    "scrolled": true
   },
   "outputs": [],
   "source": [
    "df1.groupby('genre')['genre'].count()"
   ]
  },
  {
   "cell_type": "markdown",
   "metadata": {},
   "source": [
    "## By release year"
   ]
  },
  {
   "cell_type": "code",
   "execution_count": null,
   "metadata": {},
   "outputs": [],
   "source": [
    "df.groupby('year')['year'].count()"
   ]
  },
  {
   "cell_type": "code",
   "execution_count": null,
   "metadata": {},
   "outputs": [],
   "source": [
    "df.groupby('year')['score'].mean()"
   ]
  },
  {
   "cell_type": "markdown",
   "metadata": {},
   "source": [
    "### By whether the app contains ads"
   ]
  },
  {
   "cell_type": "code",
   "execution_count": null,
   "metadata": {
    "scrolled": true
   },
   "outputs": [],
   "source": [
    "df1.groupby('containsAds')['score'].mean()"
   ]
  },
  {
   "cell_type": "markdown",
   "metadata": {},
   "source": [
    "Does not appear to be a large difference in apps that do / don't contain ads"
   ]
  },
  {
   "cell_type": "markdown",
   "metadata": {},
   "source": [
    "### By whether the app is an Editor's Choice"
   ]
  },
  {
   "cell_type": "code",
   "execution_count": null,
   "metadata": {},
   "outputs": [],
   "source": [
    "df1.groupby('editorsChoice')['editorsChoice'].count()"
   ]
  },
  {
   "cell_type": "code",
   "execution_count": null,
   "metadata": {
    "scrolled": false
   },
   "outputs": [],
   "source": [
    "df1.groupby('editorsChoice')['score'].mean()"
   ]
  },
  {
   "cell_type": "markdown",
   "metadata": {},
   "source": [
    "Apps marked as 'Editor's Choice' appear to have higher average score. Makes sense given likely to promote higher quality apps"
   ]
  },
  {
   "cell_type": "markdown",
   "metadata": {},
   "source": [
    "### By whether the app is free"
   ]
  },
  {
   "cell_type": "code",
   "execution_count": null,
   "metadata": {},
   "outputs": [],
   "source": [
    "df1.groupby('free')['free'].count()"
   ]
  },
  {
   "cell_type": "code",
   "execution_count": null,
   "metadata": {
    "scrolled": true
   },
   "outputs": [],
   "source": [
    "df1.groupby('free')['score'].mean()"
   ]
  },
  {
   "cell_type": "markdown",
   "metadata": {},
   "source": [
    "Paid-for apps appear to have a higher average score. This makes sense given you expect highr quality when you are paying for access"
   ]
  },
  {
   "cell_type": "markdown",
   "metadata": {},
   "source": [
    "### By top developer in terms of average app score"
   ]
  },
  {
   "cell_type": "code",
   "execution_count": null,
   "metadata": {
    "scrolled": true
   },
   "outputs": [],
   "source": [
    "df1.groupby('top_developer')['score'].mean()"
   ]
  },
  {
   "cell_type": "markdown",
   "metadata": {},
   "source": [
    "### By whether the app posting has a video"
   ]
  },
  {
   "cell_type": "code",
   "execution_count": null,
   "metadata": {},
   "outputs": [],
   "source": [
    "df1.groupby('has_video')['has_video'].count()"
   ]
  },
  {
   "cell_type": "code",
   "execution_count": null,
   "metadata": {
    "scrolled": true
   },
   "outputs": [],
   "source": [
    "df1.groupby('has_video')['score'].mean()"
   ]
  },
  {
   "cell_type": "markdown",
   "metadata": {},
   "source": [
    "## Check top developer"
   ]
  },
  {
   "cell_type": "code",
   "execution_count": null,
   "metadata": {},
   "outputs": [],
   "source": [
    "df1.groupby('genre')['top_developer'].mean()"
   ]
  },
  {
   "cell_type": "markdown",
   "metadata": {},
   "source": [
    "## Create new genre column "
   ]
  },
  {
   "cell_type": "code",
   "execution_count": null,
   "metadata": {},
   "outputs": [],
   "source": [
    "df1.loc[(df1['genre'] == 'Action') | (df1['genre'] == 'Adventure'),'new_genre'] = 'Action & Adventure'\n",
    "df1.loc[(df1['genre'] == 'Card') | (df1['genre'] == 'Casino'),'new_genre'] = 'Card & Casino'\n",
    "df1.loc[(df1['genre'] == 'Business') | (df1['genre'] == 'Finance'),'new_genre'] = 'Business & Finance'\n",
    "df1.loc[(df1['genre'] == 'Action') | (df1['genre'] == 'Adventure'),'new_genre'] = 'Action & Adventure'\n",
    "df1.loc[(df1['genre'] == 'Books & Reference') | \n",
    "        (df1['genre'] == 'Education') | \n",
    "        (df1['genre'] == 'Libraries & Demo') | \n",
    "        (df1['genre'] == 'Word'),'new_genre'] = 'Learning'\n",
    "df1.loc[(df1['genre'] == 'Dating') | (df1['genre'] == 'Social'),'new_genre'] = 'Dating & Social'\n",
    "df1.loc[(df1['genre'] == 'Entertainment'),'new_genre'] = 'Entertainment'\n",
    "df1.loc[(df1['genre'] == 'Maps & Navigation') | \n",
    "        (df1['genre'] == 'Weather') |\n",
    "        (df1['genre'] == 'Travel & Local'),'new_genre'] = 'Explore'\n",
    "df1.loc[(df1['genre'] == 'Dating') | (df1['genre'] == 'Social'),'new_genre'] = 'Dating & Social'\n",
    "df1.loc[(df1['genre'] == 'Medical') | \n",
    "        (df1['genre'] == 'Health & Fitness') |\n",
    "        (df1['genre'] == 'Beauty'),'new_genre'] = 'Wellness'\n",
    "df1.loc[(df1['genre'] == 'Comics') | (df1['genre'] == 'News & Magazines'),'new_genre'] = 'Cultural Reading'\n",
    "df1.loc[(df1['genre'] == 'Lifestyle') |\n",
    "        (df1['genre'] == 'Casual') |\n",
    "        (df1['genre'] == 'House & Home') |\n",
    "        (df1['genre'] == 'Food & Drink'),'new_genre'] = 'Lifestyle & Casual'\n",
    "df1.loc[(df1['genre'] == 'Music & Audio') | (df1['genre'] == 'Video Players & Editors'),'new_genre'] = 'Audio & Video'\n",
    "df1.loc[(df1['genre'] == 'Parenting'),'new_genre'] = 'Parenting'\n",
    "df1.loc[(df1['genre'] == 'Art & Design') | (df1['genre'] == 'Photography'),'new_genre'] = 'Art & Photography'\n",
    "df1.loc[(df1['genre'] == 'Personalization') |\n",
    "        (df1['genre'] == 'Productivity') |\n",
    "        (df1['genre'] == 'Tools') |\n",
    "        (df1['genre'] == 'Communication'),'new_genre'] = 'Tools'\n",
    "df1.loc[(df1['genre'] == 'Puzzle') |\n",
    "        (df1['genre'] == 'Board') |\n",
    "        (df1['genre'] == 'Trivia'),'new_genre'] = 'Puzzle Board & Trivia'\n",
    "df1.loc[(df1['genre'] == 'Racing') |\n",
    "        (df1['genre'] == 'Simulation') |\n",
    "        (df1['genre'] == 'Arcade') |\n",
    "        (df1['genre'] == 'Role Playing') |\n",
    "        (df1['genre'] == 'Strategy'),'new_genre'] = 'Simulation games'\n",
    "df1.loc[(df1['genre'] == 'Sports') |\n",
    "        (df1['genre'] == 'Auto & Vehicles') |\n",
    "        (df1['genre'] == 'Events') |\n",
    "        (df1['genre'] == 'Shopping') |\n",
    "        (df1['genre'] == 'Parenting'),'new_genre'] = 'Other'"
   ]
  },
  {
   "cell_type": "code",
   "execution_count": null,
   "metadata": {},
   "outputs": [],
   "source": [
    "#df1.to_csv('04-data/preprocessed_app_data_with_newgenre.csv',index=False)"
   ]
  },
  {
   "cell_type": "code",
   "execution_count": null,
   "metadata": {},
   "outputs": [],
   "source": []
  }
 ],
 "metadata": {
  "kernelspec": {
   "display_name": "Python 3",
   "language": "python",
   "name": "python3"
  },
  "language_info": {
   "codemirror_mode": {
    "name": "ipython",
    "version": 3
   },
   "file_extension": ".py",
   "mimetype": "text/x-python",
   "name": "python",
   "nbconvert_exporter": "python",
   "pygments_lexer": "ipython3",
   "version": "3.8.5"
  }
 },
 "nbformat": 4,
 "nbformat_minor": 4
}
