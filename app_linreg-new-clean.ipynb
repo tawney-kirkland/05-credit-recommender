{
 "cells": [
  {
   "cell_type": "code",
   "execution_count": 18,
   "metadata": {},
   "outputs": [],
   "source": [
    "import pandas as pd\n",
    "import numpy as np\n",
    "import pickle\n",
    "\n",
    "from sklearn.model_selection import train_test_split\n",
    "from sklearn.linear_model import LinearRegression, LassoCV\n",
    "from sklearn.ensemble import RandomForestClassifier\n",
    "from sklearn.metrics import mean_squared_error,mean_absolute_error\n",
    "from sklearn.pipeline import Pipeline\n",
    "from sklearn.preprocessing import StandardScaler, PolynomialFeatures, OneHotEncoder\n",
    "from sklearn.compose import ColumnTransformer\n",
    "\n",
    "import xgboost as xgb\n",
    "from xgboost import XGBClassifier\n",
    "\n",
    "import seaborn as sns\n",
    "import matplotlib.pyplot as plt"
   ]
  },
  {
   "cell_type": "code",
   "execution_count": 19,
   "metadata": {
    "scrolled": true
   },
   "outputs": [
    {
     "name": "stdout",
     "output_type": "stream",
     "text": [
      "<class 'pandas.core.frame.DataFrame'>\n",
      "RangeIndex: 22144 entries, 0 to 22143\n",
      "Data columns (total 56 columns):\n",
      " #   Column                    Non-Null Count  Dtype  \n",
      "---  ------                    --------------  -----  \n",
      " 0   title                     22144 non-null  object \n",
      " 1   description               22144 non-null  object \n",
      " 2   summary                   22143 non-null  object \n",
      " 3   installs                  22144 non-null  object \n",
      " 4   minInstalls               22144 non-null  float64\n",
      " 5   score                     22144 non-null  float64\n",
      " 6   ratings                   22144 non-null  float64\n",
      " 7   reviews                   22144 non-null  float64\n",
      " 8   histogram                 22144 non-null  object \n",
      " 9   price                     22144 non-null  float64\n",
      " 10  free                      22144 non-null  int64  \n",
      " 11  currency                  22144 non-null  object \n",
      " 12  sale                      22144 non-null  bool   \n",
      " 13  offersIAP                 22144 non-null  bool   \n",
      " 14  inAppProductPrice         10323 non-null  object \n",
      " 15  size                      22144 non-null  object \n",
      " 16  androidVersion            22117 non-null  object \n",
      " 17  androidVersionText        22117 non-null  object \n",
      " 18  developer                 22144 non-null  object \n",
      " 19  developerId               22144 non-null  object \n",
      " 20  privacyPolicy             21334 non-null  object \n",
      " 21  developerInternalID       22144 non-null  float64\n",
      " 22  genre                     22144 non-null  object \n",
      " 23  genreId                   22144 non-null  object \n",
      " 24  icon                      22144 non-null  object \n",
      " 25  headerImage               22141 non-null  object \n",
      " 26  screenshots               22144 non-null  object \n",
      " 27  video                     7374 non-null   object \n",
      " 28  videoImage                7374 non-null   object \n",
      " 29  contentRating             22144 non-null  object \n",
      " 30  contentRatingDescription  4794 non-null   object \n",
      " 31  adSupported               17923 non-null  object \n",
      " 32  containsAds               22144 non-null  int64  \n",
      " 33  released                  22144 non-null  object \n",
      " 34  updated                   22144 non-null  object \n",
      " 35  version                   22141 non-null  object \n",
      " 36  recentChanges             17737 non-null  object \n",
      " 37  comments                  22144 non-null  object \n",
      " 38  editorsChoice             22144 non-null  int64  \n",
      " 39  appId                     22144 non-null  object \n",
      " 40  url                       22144 non-null  object \n",
      " 41  year                      22144 non-null  int64  \n",
      " 42  updated_year              22144 non-null  int64  \n",
      " 43  description_clean         22141 non-null  object \n",
      " 44  hist_clean                22144 non-null  object \n",
      " 45  star_1                    22144 non-null  int64  \n",
      " 46  star_2                    22144 non-null  int64  \n",
      " 47  star_3                    22144 non-null  int64  \n",
      " 48  star_4                    22144 non-null  int64  \n",
      " 49  star_5                    22144 non-null  int64  \n",
      " 50  top_developer             22144 non-null  int64  \n",
      " 51  current_date              22144 non-null  object \n",
      " 52  days                      22144 non-null  int64  \n",
      " 53  installs_day              22144 non-null  float64\n",
      " 54  updated_days              22144 non-null  int64  \n",
      " 55  has_video                 22144 non-null  int64  \n",
      "dtypes: bool(2), float64(7), int64(14), object(33)\n",
      "memory usage: 9.2+ MB\n"
     ]
    }
   ],
   "source": [
    "df = pd.read_csv('04-data/preprocessed_app_data.csv')\n",
    "df.info()"
   ]
  },
  {
   "cell_type": "code",
   "execution_count": 20,
   "metadata": {},
   "outputs": [],
   "source": [
    "df_sentiment = pd.read_csv('merged_sentiment.csv')"
   ]
  },
  {
   "cell_type": "code",
   "execution_count": 21,
   "metadata": {},
   "outputs": [],
   "source": [
    "df= pd.merge(\n",
    "    df,\n",
    "    df_sentiment,\n",
    "    how=\"inner\",\n",
    "    on='title',\n",
    "    left_index=False,\n",
    "    right_index=False,\n",
    "    sort=True,\n",
    "    suffixes=(\"_x\", \"_y\"),\n",
    "    copy=True,\n",
    "    indicator=False,\n",
    "    validate=None,\n",
    ")"
   ]
  },
  {
   "cell_type": "code",
   "execution_count": 22,
   "metadata": {},
   "outputs": [],
   "source": [
    "X = df[['ratings','free','containsAds','genre','editorsChoice','contentRating','year','top_developer',\n",
    "        'installs_day','updated_days','has_video','compound']]\n",
    "\n",
    "y = df['score']"
   ]
  },
  {
   "cell_type": "code",
   "execution_count": 23,
   "metadata": {},
   "outputs": [],
   "source": [
    "# Split to create temporary tr and test \n",
    "X_tr, X_test, y_tr, y_test = train_test_split(X, y,test_size=.20, random_state=10)"
   ]
  },
  {
   "cell_type": "code",
   "execution_count": 24,
   "metadata": {},
   "outputs": [],
   "source": [
    "X_tr_cont = X_tr[['ratings','free','containsAds','editorsChoice','year','top_developer',\n",
    "        'installs_day','updated_days','has_video','compound']]"
   ]
  },
  {
   "cell_type": "code",
   "execution_count": 25,
   "metadata": {},
   "outputs": [],
   "source": [
    "ohe = OneHotEncoder(drop='first', sparse=False)\n",
    "\n",
    "ohe.fit(X_tr[['genre','contentRating']])\n",
    "\n",
    "ohe_x_tr = ohe.transform(X_tr[['genre','contentRating']])\n",
    "\n",
    "columns = ohe.get_feature_names(['genre','contentRating'])\n",
    "\n",
    "ohe_x_tr_df = pd.DataFrame(ohe_x_tr, columns=columns, index=X_tr.index)"
   ]
  },
  {
   "cell_type": "code",
   "execution_count": 26,
   "metadata": {},
   "outputs": [],
   "source": [
    "combo_train_df = pd.concat([X_tr_cont, ohe_x_tr_df], axis=1)"
   ]
  },
  {
   "cell_type": "code",
   "execution_count": 27,
   "metadata": {},
   "outputs": [],
   "source": [
    "# Further split temporary tr to create train and val\n",
    "#X_train, X_val, y_train, y_val = train_test_split(combo_train_df, y_tr,test_size=.20, random_state=10)"
   ]
  },
  {
   "cell_type": "code",
   "execution_count": 28,
   "metadata": {
    "scrolled": false
   },
   "outputs": [
    {
     "data": {
      "image/png": "[encoded data removed]",
      "text/plain": [
       "<Figure size 432x288 with 1 Axes>"
      ]
     },
     "metadata": {
      "needs_background": "light"
     },
     "output_type": "display_data"
    }
   ],
   "source": [
    "from scipy import stats \n",
    "fig = plt.figure() \n",
    "prob = stats.probplot(df['score'], plot=plt)"
   ]
  },
  {
   "cell_type": "code",
   "execution_count": 29,
   "metadata": {},
   "outputs": [
    {
     "name": "stderr",
     "output_type": "stream",
     "text": [
      "/Users/tawneykirkland/opt/anaconda3/lib/python3.8/site-packages/seaborn/distributions.py:2551: FutureWarning: `distplot` is a deprecated function and will be removed in a future version. Please adapt your code to use either `displot` (a figure-level function with similar flexibility) or `histplot` (an axes-level function for histograms).\n",
      "  warnings.warn(msg, FutureWarning)\n"
     ]
    },
    {
     "name": "stdout",
     "output_type": "stream",
     "text": [
      "- Total number of ratings: 22144\n",
      "- Mean of distribution of rating : 4.06849959255326\n",
      "- Standard deviation: 0.449479565357854\n"
     ]
    },
    {
     "data": {
      "image/png": "[encoded data removed]",
      "text/plain": [
       "<Figure size 432x288 with 1 Axes>"
      ]
     },
     "metadata": {
      "needs_background": "light"
     },
     "output_type": "display_data"
    }
   ],
   "source": [
    "sns.distplot(df['score'],fit=stats.norm)\n",
    "print('- Total number of ratings:', len(df['score']))\n",
    "print('- Mean of distribution of rating :', np.mean(df['score']))\n",
    "print('- Standard deviation:', np.std(df['score']))"
   ]
  },
  {
   "cell_type": "code",
   "execution_count": 30,
   "metadata": {},
   "outputs": [],
   "source": [
    "def split_and_validate(X, feature,y):\n",
    "    '''\n",
    "    For a set of features and target X, y, perform a 80/20 train/val split, \n",
    "    fit and validate a linear regression model, and report results\n",
    "    '''\n",
    "    \n",
    "    # perform train/val split\n",
    "    X_train, X_val, y_train, y_val = \\\n",
    "        train_test_split(combo_train_df, y_tr, test_size=0.2, random_state=10)\n",
    "    \n",
    "    # fit linear regression to training data\n",
    "    lr_model = LinearRegression()\n",
    "    lr_model.fit(X_train[feature], y_train)\n",
    "    \n",
    "    # Find predictions\n",
    "    y_pred = lr_model.predict(X_val[feature])\n",
    "    \n",
    "    # score fit model on validation data\n",
    "    val_score = lr_model.score(X_val[feature], y_val)\n",
    "    val_MSE = mean_squared_error(y_val, y_pred)\n",
    "    val_MAE = mean_absolute_error(y_val, y_pred)\n",
    "    \n",
    "    # report results\n",
    "    print('\\nValidation R^2 score was: {:.2f}'.format(val_score))\n",
    "    print('MSE of linear regression on val set: {:.2f}'.format(val_MSE))\n",
    "    print('MAE of linear regression on val set: {:.2f}'.format(val_MAE))\n",
    "    print('Feature coefficient results: \\n')\n",
    "    for feature, coef in zip(X_train[feature].columns, lr_model.coef_):\n",
    "        print(feature, ':', f'{coef:.2f}') "
   ]
  },
  {
   "cell_type": "markdown",
   "metadata": {},
   "source": [
    "## All features"
   ]
  },
  {
   "cell_type": "code",
   "execution_count": 31,
   "metadata": {},
   "outputs": [],
   "source": [
    "features = ['ratings', 'free', 'containsAds', 'editorsChoice', 'year',\n",
    "       'top_developer', 'installs_day', 'updated_days', 'has_video',\n",
    "       'compound', 'genre_Adventure', 'genre_Arcade', 'genre_Art & Design',\n",
    "       'genre_Auto & Vehicles', 'genre_Beauty', 'genre_Board',\n",
    "       'genre_Books & Reference', 'genre_Business', 'genre_Card',\n",
    "       'genre_Casino', 'genre_Casual', 'genre_Comics', 'genre_Communication',\n",
    "       'genre_Dating', 'genre_Education', 'genre_Entertainment',\n",
    "       'genre_Events', 'genre_Finance', 'genre_Food & Drink',\n",
    "       'genre_Health & Fitness', 'genre_House & Home',\n",
    "       'genre_Libraries & Demo', 'genre_Lifestyle', 'genre_Maps & Navigation',\n",
    "       'genre_Medical', 'genre_Music', 'genre_Music & Audio',\n",
    "       'genre_News & Magazines', 'genre_Parenting', 'genre_Personalization',\n",
    "       'genre_Photography', 'genre_Productivity', 'genre_Puzzle',\n",
    "       'genre_Racing', 'genre_Role Playing', 'genre_Shopping',\n",
    "       'genre_Simulation', 'genre_Social', 'genre_Sports', 'genre_Strategy',\n",
    "       'genre_Tools', 'genre_Travel & Local', 'genre_Trivia',\n",
    "       'genre_Video Players & Editors', 'genre_Weather', 'genre_Word',\n",
    "       'contentRating_Everyone 10+', 'contentRating_Mature 17+',\n",
    "       'contentRating_Teen']"
   ]
  },
  {
   "cell_type": "code",
   "execution_count": 33,
   "metadata": {
    "scrolled": true
   },
   "outputs": [
    {
     "name": "stdout",
     "output_type": "stream",
     "text": [
      "\n",
      "Validation R^2 score was: 0.42\n",
      "MSE of linear regression on val set: 0.12\n",
      "MAE of linear regression on val set: 0.26\n",
      "Feature coefficient results: \n",
      "\n",
      "ratings : 0.00\n",
      "free : 0.03\n",
      "containsAds : 0.01\n",
      "editorsChoice : 0.07\n",
      "year : -0.01\n",
      "top_developer : 0.38\n",
      "installs_day : 0.00\n",
      "updated_days : -0.00\n",
      "has_video : 0.04\n",
      "compound : 1.16\n",
      "genre_Adventure : -0.10\n",
      "genre_Arcade : -0.00\n",
      "genre_Art & Design : -0.05\n",
      "genre_Auto & Vehicles : 0.09\n",
      "genre_Beauty : -0.19\n",
      "genre_Board : 0.10\n",
      "genre_Books & Reference : 0.15\n",
      "genre_Business : 0.11\n",
      "genre_Card : 0.19\n",
      "genre_Casino : 0.19\n",
      "genre_Casual : -0.05\n",
      "genre_Comics : -0.12\n",
      "genre_Communication : 0.07\n",
      "genre_Dating : 0.03\n",
      "genre_Education : 0.03\n",
      "genre_Entertainment : -0.05\n",
      "genre_Events : -0.34\n",
      "genre_Finance : 0.10\n",
      "genre_Food & Drink : 0.11\n",
      "genre_Health & Fitness : 0.13\n",
      "genre_House & Home : 0.16\n",
      "genre_Libraries & Demo : -0.06\n",
      "genre_Lifestyle : 0.00\n",
      "genre_Maps & Navigation : 0.12\n",
      "genre_Medical : 0.06\n",
      "genre_Music : -0.05\n",
      "genre_Music & Audio : 0.07\n",
      "genre_News & Magazines : 0.03\n",
      "genre_Parenting : 0.16\n",
      "genre_Personalization : 0.08\n",
      "genre_Photography : -0.06\n",
      "genre_Productivity : 0.08\n",
      "genre_Puzzle : 0.11\n",
      "genre_Racing : -0.01\n",
      "genre_Role Playing : -0.11\n",
      "genre_Shopping : 0.18\n",
      "genre_Simulation : -0.09\n",
      "genre_Social : 0.04\n",
      "genre_Sports : -0.00\n",
      "genre_Strategy : 0.02\n",
      "genre_Tools : 0.08\n",
      "genre_Travel & Local : 0.05\n",
      "genre_Trivia : 0.04\n",
      "genre_Video Players & Editors : -0.06\n",
      "genre_Weather : 0.06\n",
      "genre_Word : 0.12\n",
      "contentRating_Everyone 10+ : 0.03\n",
      "contentRating_Mature 17+ : -0.02\n",
      "contentRating_Teen : -0.03\n"
     ]
    }
   ],
   "source": [
    "split_and_validate(combo_train_df,features,y_tr)"
   ]
  },
  {
   "cell_type": "markdown",
   "metadata": {},
   "source": [
    "## Removing ratings, installs / day, days since last update, year, mature audiences, lifestyle, sports, medical, weather, dating etc"
   ]
  },
  {
   "cell_type": "code",
   "execution_count": 35,
   "metadata": {},
   "outputs": [],
   "source": [
    "features2 = features.copy()\n",
    "features2.remove('ratings')\n",
    "features2.remove('installs_day')\n",
    "features2.remove('updated_days')\n",
    "features2.remove('containsAds')\n",
    "features2.remove('year')\n",
    "features2.remove('contentRating_Mature 17+')\n",
    "features2.remove('contentRating_Teen')\n",
    "features2.remove('genre_Lifestyle')\n",
    "features2.remove('genre_Sports')\n",
    "features2.remove('genre_Arcade')\n",
    "features2.remove('genre_Medical')\n",
    "features2.remove('genre_Weather')\n",
    "features2.remove('genre_Dating')\n",
    "features2.remove('genre_Libraries & Demo')\n",
    "features2.remove('genre_Education')"
   ]
  },
  {
   "cell_type": "code",
   "execution_count": 36,
   "metadata": {},
   "outputs": [
    {
     "name": "stdout",
     "output_type": "stream",
     "text": [
      "\n",
      "Validation R^2 score was: 0.37\n",
      "MSE of linear regression on val set: 0.13\n",
      "MAE of linear regression on val set: 0.27\n",
      "Feature coefficient results: \n",
      "\n",
      "free : -0.15\n",
      "editorsChoice : 0.16\n",
      "top_developer : 0.47\n",
      "has_video : 0.07\n",
      "compound : 1.16\n",
      "genre_Adventure : -0.11\n",
      "genre_Art & Design : -0.07\n",
      "genre_Auto & Vehicles : 0.08\n",
      "genre_Beauty : -0.20\n",
      "genre_Board : 0.11\n",
      "genre_Books & Reference : 0.15\n",
      "genre_Business : 0.12\n",
      "genre_Card : 0.23\n",
      "genre_Casino : 0.24\n",
      "genre_Casual : -0.05\n",
      "genre_Comics : -0.16\n",
      "genre_Communication : 0.06\n",
      "genre_Entertainment : -0.07\n",
      "genre_Events : -0.37\n",
      "genre_Finance : 0.16\n",
      "genre_Food & Drink : 0.12\n",
      "genre_Health & Fitness : 0.13\n",
      "genre_House & Home : 0.17\n",
      "genre_Maps & Navigation : 0.13\n",
      "genre_Music : -0.03\n",
      "genre_Music & Audio : 0.06\n",
      "genre_News & Magazines : 0.05\n",
      "genre_Parenting : 0.18\n",
      "genre_Personalization : 0.06\n",
      "genre_Photography : -0.07\n",
      "genre_Productivity : 0.07\n",
      "genre_Puzzle : 0.13\n",
      "genre_Racing : -0.04\n",
      "genre_Role Playing : -0.08\n",
      "genre_Shopping : 0.19\n",
      "genre_Simulation : -0.10\n",
      "genre_Social : 0.04\n",
      "genre_Strategy : 0.09\n",
      "genre_Tools : 0.07\n",
      "genre_Travel & Local : 0.03\n",
      "genre_Trivia : 0.06\n",
      "genre_Video Players & Editors : -0.07\n",
      "genre_Word : 0.16\n",
      "contentRating_Everyone 10+ : 0.06\n"
     ]
    }
   ],
   "source": [
    "split_and_validate(combo_train_df,features2,y_tr)"
   ]
  },
  {
   "cell_type": "markdown",
   "metadata": {},
   "source": [
    "### Test"
   ]
  },
  {
   "cell_type": "code",
   "execution_count": 37,
   "metadata": {},
   "outputs": [],
   "source": [
    "X_test_cont = X_test[['free','containsAds','editorsChoice','year','top_developer','has_video','compound', 'updated_days']]"
   ]
  },
  {
   "cell_type": "code",
   "execution_count": 38,
   "metadata": {},
   "outputs": [],
   "source": [
    "ohe = OneHotEncoder(drop='first', sparse=False)\n",
    "\n",
    "ohe.fit(X_test[['genre','contentRating']])\n",
    "\n",
    "ohe_x_test = ohe.transform(X_test[['genre','contentRating']])\n",
    "\n",
    "columns = ohe.get_feature_names(['genre','contentRating'])\n",
    "\n",
    "ohe_x_test_df = pd.DataFrame(ohe_x_test, columns=columns, index=X_test.index)"
   ]
  },
  {
   "cell_type": "code",
   "execution_count": 39,
   "metadata": {},
   "outputs": [],
   "source": [
    "#Merge cont and cat DFs\n",
    "combo_test_df = pd.concat([X_test_cont, ohe_x_test_df], axis=1)"
   ]
  },
  {
   "cell_type": "code",
   "execution_count": 41,
   "metadata": {},
   "outputs": [],
   "source": [
    "# y_pred_test = lr11.predict(combo_test_df[features11])\n",
    "# print('R^2 of linear regression on val set: {:.2f}'.format(lr11.score(combo_test_df[features11], y_test)))\n",
    "# print('MSE of linear regression on val set: {:.2f}'.format(np.sqrt(mean_squared_error(y_test, y_pred_test))))\n",
    "# print('MAE of linear regression on val set: {:.2f}'.format(np.sqrt(mean_absolute_error(y_test, y_pred_test))))"
   ]
  },
  {
   "cell_type": "code",
   "execution_count": null,
   "metadata": {},
   "outputs": [],
   "source": []
  }
 ],
 "metadata": {
  "kernelspec": {
   "display_name": "Python 3",
   "language": "python",
   "name": "python3"
  },
  "language_info": {
   "codemirror_mode": {
    "name": "ipython",
    "version": 3
   },
   "file_extension": ".py",
   "mimetype": "text/x-python",
   "name": "python",
   "nbconvert_exporter": "python",
   "pygments_lexer": "ipython3",
   "version": "3.8.5"
  }
 },
 "nbformat": 4,
 "nbformat_minor": 4
}
